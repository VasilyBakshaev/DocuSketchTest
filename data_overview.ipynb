{
  "cells": [
    {
      "cell_type": "markdown",
      "metadata": {
        "id": "duFz6Nsuc3fn"
      },
      "source": [
        "# Example data overview\n",
        "\n",
        "**Source:**\n",
        "\n",
        "Download pandas json : https://ai-process-sandy.s3.eu-west-1.amazonaws.com/purge/deviation.json\n",
        "\n",
        "**Context:**\n",
        "\n",
        "These are deviations of floor vs ceiling corners of one of our models with ground truth labels for the room name and number of corners in that room with predictions. Please create meaningful statistics of how well the model performed.\n",
        "\n",
        "- `Gt_corners` = ground truth number of corners in the room \n",
        "- `Rb_corners` = number of corners found by the model\n",
        "- `mean`, `max`, `min` and all others are deviation values in degrees."
      ]
    },
    {
      "cell_type": "code",
      "execution_count": 1,
      "metadata": {
        "id": "Ls63YOtQbaVX"
      },
      "outputs": [],
      "source": [
        "import pandas as pd\n",
        "from sklearn import metrics\n",
        "\n",
        "import matplotlib.pyplot as plt\n",
        "import seaborn as sns\n",
        "sns.set_theme(style=\"darkgrid\")"
      ]
    },
    {
      "cell_type": "code",
      "execution_count": 2,
      "metadata": {
        "colab": {
          "base_uri": "https://localhost:8080/",
          "height": 206
        },
        "id": "CBEFB3s4bjTa",
        "outputId": "a448a716-58cf-4b9a-e39c-568001aaf88d"
      },
      "outputs": [
        {
          "data": {
            "text/html": [
              "<div>\n",
              "<style scoped>\n",
              "    .dataframe tbody tr th:only-of-type {\n",
              "        vertical-align: middle;\n",
              "    }\n",
              "\n",
              "    .dataframe tbody tr th {\n",
              "        vertical-align: top;\n",
              "    }\n",
              "\n",
              "    .dataframe thead th {\n",
              "        text-align: right;\n",
              "    }\n",
              "</style>\n",
              "<table border=\"1\" class=\"dataframe\">\n",
              "  <thead>\n",
              "    <tr style=\"text-align: right;\">\n",
              "      <th></th>\n",
              "      <th>name</th>\n",
              "      <th>gt_corners</th>\n",
              "      <th>rb_corners</th>\n",
              "      <th>mean</th>\n",
              "      <th>max</th>\n",
              "      <th>min</th>\n",
              "      <th>floor_mean</th>\n",
              "      <th>floor_max</th>\n",
              "      <th>floor_min</th>\n",
              "      <th>ceiling_mean</th>\n",
              "      <th>ceiling_max</th>\n",
              "      <th>ceiling_min</th>\n",
              "    </tr>\n",
              "  </thead>\n",
              "  <tbody>\n",
              "    <tr>\n",
              "      <th>0</th>\n",
              "      <td>Schlafzimmer</td>\n",
              "      <td>4</td>\n",
              "      <td>4</td>\n",
              "      <td>3.956313</td>\n",
              "      <td>8.562939</td>\n",
              "      <td>0.274574</td>\n",
              "      <td>3.987864</td>\n",
              "      <td>8.562939</td>\n",
              "      <td>0.274574</td>\n",
              "      <td>3.924762</td>\n",
              "      <td>8.501885</td>\n",
              "      <td>0.331494</td>\n",
              "    </tr>\n",
              "    <tr>\n",
              "      <th>1</th>\n",
              "      <td>Küche</td>\n",
              "      <td>4</td>\n",
              "      <td>4</td>\n",
              "      <td>23.019122</td>\n",
              "      <td>52.605437</td>\n",
              "      <td>0.724299</td>\n",
              "      <td>1.253103</td>\n",
              "      <td>1.897612</td>\n",
              "      <td>0.724299</td>\n",
              "      <td>44.785141</td>\n",
              "      <td>52.605437</td>\n",
              "      <td>36.880814</td>\n",
              "    </tr>\n",
              "    <tr>\n",
              "      <th>2</th>\n",
              "      <td>Bathroom</td>\n",
              "      <td>4</td>\n",
              "      <td>4</td>\n",
              "      <td>1.013833</td>\n",
              "      <td>1.950322</td>\n",
              "      <td>0.301673</td>\n",
              "      <td>0.659138</td>\n",
              "      <td>1.318714</td>\n",
              "      <td>0.301673</td>\n",
              "      <td>1.368528</td>\n",
              "      <td>1.950322</td>\n",
              "      <td>0.878106</td>\n",
              "    </tr>\n",
              "    <tr>\n",
              "      <th>3</th>\n",
              "      <td>Lounge/Diner</td>\n",
              "      <td>8</td>\n",
              "      <td>8</td>\n",
              "      <td>3.832620</td>\n",
              "      <td>18.236935</td>\n",
              "      <td>0.173307</td>\n",
              "      <td>3.600083</td>\n",
              "      <td>15.041431</td>\n",
              "      <td>0.173307</td>\n",
              "      <td>4.065157</td>\n",
              "      <td>18.236935</td>\n",
              "      <td>0.253457</td>\n",
              "    </tr>\n",
              "    <tr>\n",
              "      <th>4</th>\n",
              "      <td>Essbereich</td>\n",
              "      <td>4</td>\n",
              "      <td>4</td>\n",
              "      <td>8.017758</td>\n",
              "      <td>15.642853</td>\n",
              "      <td>0.762948</td>\n",
              "      <td>7.819446</td>\n",
              "      <td>15.399635</td>\n",
              "      <td>0.762948</td>\n",
              "      <td>8.216069</td>\n",
              "      <td>15.642853</td>\n",
              "      <td>0.909029</td>\n",
              "    </tr>\n",
              "  </tbody>\n",
              "</table>\n",
              "</div>"
            ],
            "text/plain": [
              "           name  gt_corners  rb_corners       mean        max       min  \\\n",
              "0  Schlafzimmer           4           4   3.956313   8.562939  0.274574   \n",
              "1         Küche           4           4  23.019122  52.605437  0.724299   \n",
              "2      Bathroom           4           4   1.013833   1.950322  0.301673   \n",
              "3  Lounge/Diner           8           8   3.832620  18.236935  0.173307   \n",
              "4    Essbereich           4           4   8.017758  15.642853  0.762948   \n",
              "\n",
              "   floor_mean  floor_max  floor_min  ceiling_mean  ceiling_max  ceiling_min  \n",
              "0    3.987864   8.562939   0.274574      3.924762     8.501885     0.331494  \n",
              "1    1.253103   1.897612   0.724299     44.785141    52.605437    36.880814  \n",
              "2    0.659138   1.318714   0.301673      1.368528     1.950322     0.878106  \n",
              "3    3.600083  15.041431   0.173307      4.065157    18.236935     0.253457  \n",
              "4    7.819446  15.399635   0.762948      8.216069    15.642853     0.909029  "
            ]
          },
          "execution_count": 2,
          "metadata": {},
          "output_type": "execute_result"
        }
      ],
      "source": [
        "df = pd.read_json('https://ai-process-sandy.s3.eu-west-1.amazonaws.com/purge/deviation.json')\n",
        "df.head()"
      ]
    },
    {
      "cell_type": "code",
      "execution_count": 3,
      "metadata": {
        "colab": {
          "base_uri": "https://localhost:8080/"
        },
        "id": "lOJnQMT2b9E-",
        "outputId": "79770113-c93d-45ea-e261-60c233f4c1e6"
      },
      "outputs": [
        {
          "name": "stdout",
          "output_type": "stream",
          "text": [
            "<class 'pandas.core.frame.DataFrame'>\n",
            "Int64Index: 1347 entries, 0 to 1346\n",
            "Data columns (total 12 columns):\n",
            " #   Column        Non-Null Count  Dtype  \n",
            "---  ------        --------------  -----  \n",
            " 0   name          1347 non-null   object \n",
            " 1   gt_corners    1347 non-null   int64  \n",
            " 2   rb_corners    1347 non-null   int64  \n",
            " 3   mean          1347 non-null   float64\n",
            " 4   max           1347 non-null   float64\n",
            " 5   min           1347 non-null   float64\n",
            " 6   floor_mean    1347 non-null   float64\n",
            " 7   floor_max     1347 non-null   float64\n",
            " 8   floor_min     1347 non-null   float64\n",
            " 9   ceiling_mean  1347 non-null   float64\n",
            " 10  ceiling_max   1347 non-null   float64\n",
            " 11  ceiling_min   1347 non-null   float64\n",
            "dtypes: float64(9), int64(2), object(1)\n",
            "memory usage: 136.8+ KB\n"
          ]
        }
      ],
      "source": [
        "df.info()"
      ]
    },
    {
      "cell_type": "markdown",
      "metadata": {
        "id": "dC-MEEnDnouR"
      },
      "source": [
        "Let's check the amount of full duplicates"
      ]
    },
    {
      "cell_type": "code",
      "execution_count": 4,
      "metadata": {
        "colab": {
          "base_uri": "https://localhost:8080/"
        },
        "id": "jFgmQduRni4W",
        "outputId": "da4b7532-37b0-4e2c-8318-b98f6df18c23"
      },
      "outputs": [
        {
          "data": {
            "text/plain": [
              "0"
            ]
          },
          "execution_count": 4,
          "metadata": {},
          "output_type": "execute_result"
        }
      ],
      "source": [
        "df.duplicated().sum()"
      ]
    },
    {
      "cell_type": "code",
      "execution_count": 5,
      "metadata": {
        "colab": {
          "base_uri": "https://localhost:8080/"
        },
        "id": "rhCcX86jfv-f",
        "outputId": "3bec6f01-85b8-4b17-dac1-d58c489bf479"
      },
      "outputs": [
        {
          "data": {
            "text/plain": [
              "array([ 4,  8,  6, 10])"
            ]
          },
          "execution_count": 5,
          "metadata": {},
          "output_type": "execute_result"
        }
      ],
      "source": [
        "df.gt_corners.unique()"
      ]
    },
    {
      "cell_type": "code",
      "execution_count": 6,
      "metadata": {
        "colab": {
          "base_uri": "https://localhost:8080/"
        },
        "id": "D0DfuQQgoAfE",
        "outputId": "596caf6d-0be9-4496-f8ee-0bec56992742"
      },
      "outputs": [
        {
          "data": {
            "text/plain": [
              "array([ 4,  8,  6, 10])"
            ]
          },
          "execution_count": 6,
          "metadata": {},
          "output_type": "execute_result"
        }
      ],
      "source": [
        "df.rb_corners.unique()"
      ]
    },
    {
      "cell_type": "code",
      "execution_count": 7,
      "metadata": {
        "colab": {
          "base_uri": "https://localhost:8080/"
        },
        "id": "0D-Tj6QVg2U3",
        "outputId": "f9d5f411-4454-4de6-f0ac-11b2c0cbbcce"
      },
      "outputs": [
        {
          "data": {
            "text/plain": [
              "1.0"
            ]
          },
          "execution_count": 7,
          "metadata": {},
          "output_type": "execute_result"
        }
      ],
      "source": [
        "metrics.f1_score(df.gt_corners, df.rb_corners, average='micro')"
      ]
    },
    {
      "cell_type": "markdown",
      "metadata": {
        "id": "cqLeiaEfgrf8"
      },
      "source": [
        "If I understand correctly that the column `gt_corners` contains actual values, and the column `rb_corners` contains predictions, then based on the f1 score, the model worked with 100% accuracy."
      ]
    },
    {
      "cell_type": "code",
      "execution_count": 8,
      "metadata": {
        "colab": {
          "base_uri": "https://localhost:8080/"
        },
        "id": "znv3mzKXiXgB",
        "outputId": "59db21b5-22b7-4952-9b9a-da32177a62a7"
      },
      "outputs": [
        {
          "data": {
            "text/plain": [
              "0"
            ]
          },
          "execution_count": 8,
          "metadata": {},
          "output_type": "execute_result"
        }
      ],
      "source": [
        "df[df['rb_corners'] != df['gt_corners']]['name'].count()"
      ]
    },
    {
      "cell_type": "code",
      "execution_count": 9,
      "metadata": {
        "id": "OHq6TlfDupPH"
      },
      "outputs": [],
      "source": [
        "df['mean_check'] = (df['floor_mean'] + df ['ceiling_mean']) / 2"
      ]
    },
    {
      "cell_type": "code",
      "execution_count": 10,
      "metadata": {
        "colab": {
          "base_uri": "https://localhost:8080/",
          "height": 206
        },
        "id": "7JtlvC5Qu7-a",
        "outputId": "879da342-02da-4110-81df-b5a3d7a39d83"
      },
      "outputs": [
        {
          "data": {
            "text/html": [
              "<div>\n",
              "<style scoped>\n",
              "    .dataframe tbody tr th:only-of-type {\n",
              "        vertical-align: middle;\n",
              "    }\n",
              "\n",
              "    .dataframe tbody tr th {\n",
              "        vertical-align: top;\n",
              "    }\n",
              "\n",
              "    .dataframe thead th {\n",
              "        text-align: right;\n",
              "    }\n",
              "</style>\n",
              "<table border=\"1\" class=\"dataframe\">\n",
              "  <thead>\n",
              "    <tr style=\"text-align: right;\">\n",
              "      <th></th>\n",
              "      <th>name</th>\n",
              "      <th>gt_corners</th>\n",
              "      <th>rb_corners</th>\n",
              "      <th>mean</th>\n",
              "      <th>max</th>\n",
              "      <th>min</th>\n",
              "      <th>floor_mean</th>\n",
              "      <th>floor_max</th>\n",
              "      <th>floor_min</th>\n",
              "      <th>ceiling_mean</th>\n",
              "      <th>ceiling_max</th>\n",
              "      <th>ceiling_min</th>\n",
              "      <th>mean_check</th>\n",
              "    </tr>\n",
              "  </thead>\n",
              "  <tbody>\n",
              "    <tr>\n",
              "      <th>0</th>\n",
              "      <td>Schlafzimmer</td>\n",
              "      <td>4</td>\n",
              "      <td>4</td>\n",
              "      <td>3.956313</td>\n",
              "      <td>8.562939</td>\n",
              "      <td>0.274574</td>\n",
              "      <td>3.987864</td>\n",
              "      <td>8.562939</td>\n",
              "      <td>0.274574</td>\n",
              "      <td>3.924762</td>\n",
              "      <td>8.501885</td>\n",
              "      <td>0.331494</td>\n",
              "      <td>3.956313</td>\n",
              "    </tr>\n",
              "    <tr>\n",
              "      <th>1</th>\n",
              "      <td>Küche</td>\n",
              "      <td>4</td>\n",
              "      <td>4</td>\n",
              "      <td>23.019122</td>\n",
              "      <td>52.605437</td>\n",
              "      <td>0.724299</td>\n",
              "      <td>1.253103</td>\n",
              "      <td>1.897612</td>\n",
              "      <td>0.724299</td>\n",
              "      <td>44.785141</td>\n",
              "      <td>52.605437</td>\n",
              "      <td>36.880814</td>\n",
              "      <td>23.019122</td>\n",
              "    </tr>\n",
              "    <tr>\n",
              "      <th>2</th>\n",
              "      <td>Bathroom</td>\n",
              "      <td>4</td>\n",
              "      <td>4</td>\n",
              "      <td>1.013833</td>\n",
              "      <td>1.950322</td>\n",
              "      <td>0.301673</td>\n",
              "      <td>0.659138</td>\n",
              "      <td>1.318714</td>\n",
              "      <td>0.301673</td>\n",
              "      <td>1.368528</td>\n",
              "      <td>1.950322</td>\n",
              "      <td>0.878106</td>\n",
              "      <td>1.013833</td>\n",
              "    </tr>\n",
              "    <tr>\n",
              "      <th>3</th>\n",
              "      <td>Lounge/Diner</td>\n",
              "      <td>8</td>\n",
              "      <td>8</td>\n",
              "      <td>3.832620</td>\n",
              "      <td>18.236935</td>\n",
              "      <td>0.173307</td>\n",
              "      <td>3.600083</td>\n",
              "      <td>15.041431</td>\n",
              "      <td>0.173307</td>\n",
              "      <td>4.065157</td>\n",
              "      <td>18.236935</td>\n",
              "      <td>0.253457</td>\n",
              "      <td>3.832620</td>\n",
              "    </tr>\n",
              "    <tr>\n",
              "      <th>4</th>\n",
              "      <td>Essbereich</td>\n",
              "      <td>4</td>\n",
              "      <td>4</td>\n",
              "      <td>8.017758</td>\n",
              "      <td>15.642853</td>\n",
              "      <td>0.762948</td>\n",
              "      <td>7.819446</td>\n",
              "      <td>15.399635</td>\n",
              "      <td>0.762948</td>\n",
              "      <td>8.216069</td>\n",
              "      <td>15.642853</td>\n",
              "      <td>0.909029</td>\n",
              "      <td>8.017758</td>\n",
              "    </tr>\n",
              "  </tbody>\n",
              "</table>\n",
              "</div>"
            ],
            "text/plain": [
              "           name  gt_corners  rb_corners       mean        max       min  \\\n",
              "0  Schlafzimmer           4           4   3.956313   8.562939  0.274574   \n",
              "1         Küche           4           4  23.019122  52.605437  0.724299   \n",
              "2      Bathroom           4           4   1.013833   1.950322  0.301673   \n",
              "3  Lounge/Diner           8           8   3.832620  18.236935  0.173307   \n",
              "4    Essbereich           4           4   8.017758  15.642853  0.762948   \n",
              "\n",
              "   floor_mean  floor_max  floor_min  ceiling_mean  ceiling_max  ceiling_min  \\\n",
              "0    3.987864   8.562939   0.274574      3.924762     8.501885     0.331494   \n",
              "1    1.253103   1.897612   0.724299     44.785141    52.605437    36.880814   \n",
              "2    0.659138   1.318714   0.301673      1.368528     1.950322     0.878106   \n",
              "3    3.600083  15.041431   0.173307      4.065157    18.236935     0.253457   \n",
              "4    7.819446  15.399635   0.762948      8.216069    15.642853     0.909029   \n",
              "\n",
              "   mean_check  \n",
              "0    3.956313  \n",
              "1   23.019122  \n",
              "2    1.013833  \n",
              "3    3.832620  \n",
              "4    8.017758  "
            ]
          },
          "execution_count": 10,
          "metadata": {},
          "output_type": "execute_result"
        }
      ],
      "source": [
        "df.head()"
      ]
    },
    {
      "cell_type": "markdown",
      "metadata": {
        "id": "lwY7C7UihU5F"
      },
      "source": [
        "By this check, we can conclude that the columns `mean`, `max`, `min` represent the average of the ceiling and floor values."
      ]
    },
    {
      "cell_type": "code",
      "execution_count": 11,
      "metadata": {
        "colab": {
          "base_uri": "https://localhost:8080/"
        },
        "id": "NTOAq3Xy2_xf",
        "outputId": "41b95444-7702-4b30-8e09-6587b39db6f6"
      },
      "outputs": [
        {
          "data": {
            "text/plain": [
              "588"
            ]
          },
          "execution_count": 11,
          "metadata": {},
          "output_type": "execute_result"
        }
      ],
      "source": [
        "len(df['name'].unique())"
      ]
    },
    {
      "cell_type": "code",
      "execution_count": 12,
      "metadata": {
        "id": "Ufb9TmW7lIvS"
      },
      "outputs": [],
      "source": [
        "data = {'name': df['name'].value_counts().index, 'count': df['name'].value_counts().values}\n",
        "data = pd.DataFrame(data=data).sort_values(by='count', ascending= False)"
      ]
    },
    {
      "cell_type": "code",
      "execution_count": 13,
      "metadata": {
        "colab": {
          "base_uri": "https://localhost:8080/",
          "height": 480
        },
        "id": "uUoZpihSiIMR",
        "outputId": "1e160f2c-db89-40ca-ff79-48021b9722ec"
      },
      "outputs": [
        {
          "data": {
            "image/png": "[encoded data removed]",
            "text/plain": [
              "<Figure size 640x480 with 1 Axes>"
            ]
          },
          "metadata": {},
          "output_type": "display_data"
        }
      ],
      "source": [
        "a = sns.barplot(x='count', y='name', data=data[:15])\n",
        "a.set(xlabel='Count', ylabel='Name', \n",
        "      title='Number of room names in the dataset')\n",
        "plt.show()"
      ]
    },
    {
      "cell_type": "markdown",
      "metadata": {
        "id": "j05hwyxvh0MG"
      },
      "source": [
        "Room names are not unique, the table stores data for multiple instances of rooms such as `Master Bedroom`, `Dining Room`, `Bathroom`, etc."
      ]
    }
  ],
  "metadata": {
    "colab": {
      "provenance": []
    },
    "kernelspec": {
      "display_name": "Python 3",
      "name": "python3"
    },
    "language_info": {
      "codemirror_mode": {
        "name": "ipython",
        "version": 3
      },
      "file_extension": ".py",
      "mimetype": "text/x-python",
      "name": "python",
      "nbconvert_exporter": "python",
      "pygments_lexer": "ipython3",
      "version": "3.9.6"
    }
  },
  "nbformat": 4,
  "nbformat_minor": 0
}
